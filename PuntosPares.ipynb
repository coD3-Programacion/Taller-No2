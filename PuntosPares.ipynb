{
 "cells": [
  {
   "cell_type": "code",
   "execution_count": 67,
   "metadata": {},
   "outputs": [
    {
     "name": "stdout",
     "output_type": "stream",
     "text": [
      "El numero es: 845.265\n",
      "La parte entera es: 845 y la parte decimal es: 0.26499999999998636\n",
      "Los digitos de la parte entera son: ['8', '4', '5']\n",
      "Los digitos de la parte decimal son:  ['2', '6', '5']\n"
     ]
    }
   ],
   "source": [
    "\"\"\" \n",
    "2. Desarrollar un programa que ingrese un número flotante n y separe su parte entera de la parte decimal, y luego entregue \n",
    "los dígitos tanto de la parte entera como de la decimal.\n",
    "\"\"\"\n",
    "\n",
    "def separar_partes_digitos(n):\n",
    "    #Se halla la parte entera con int(n) y la parte decimal restando la parte entera al numero\n",
    "    parte_entera = int(n) \n",
    "    parte_decimal = n - parte_entera\n",
    "\n",
    "    #Se imprime el numero con sus partes divididas\n",
    "    print(\"El numero es:\", n)\n",
    "    print(\"La parte entera es:\", parte_entera , \"y la parte decimal es:\", parte_decimal)\n",
    "\n",
    "    #Se convierte el numero a str para poder recorrerlo con un for y encontrar sus digitos\n",
    "    n_str = str(n)\n",
    "    digitos = []\n",
    "    for i in n_str: #se recorre el numero y se pone en la lista\n",
    "        digitos.append(i)\n",
    "\n",
    "    #se halla el indice del punto en la lista para hacer slicing de los digitos de la parte decimal y los de la parte entera\n",
    "    punto = digitos.index(\".\")\n",
    "    parte_decimal = digitos[punto+1:] \n",
    "    parte_entera = digitos[:punto]\n",
    "    print(\"Los digitos de la parte entera son:\", parte_entera)\n",
    "    print(\"Los digitos de la parte decimal son: \", parte_decimal)\n",
    "\n",
    "if __name__ == \"__main__\":\n",
    "    numero = float(input(\"Ingrese un numero para separar la parte entera de la decimal: \")) #se pide el numero\n",
    "    separar_partes_digitos(numero)"
   ]
  },
  {
   "cell_type": "code",
   "execution_count": 146,
   "metadata": {},
   "outputs": [
    {
     "name": "stdout",
     "output_type": "stream",
     "text": [
      "Con 1 terminos el valor aprox es 1.0 el valor real es 0.7042004042929833 y el % de error es 42.00503065657841%\n",
      "Con 2 terminos el valor aprox es 0.6883448750000001 el valor real es 0.7042004042929833 y el % de error es 2.2515649233263524%\n",
      "Con 2 terminos se tiene un error menor al 10%\n",
      "Con 3 terminos el valor aprox es 0.7045330278231277 el valor real es 0.7042004042929833 y el % de error es 0.04723421459525553%\n",
      "Con 3 terminos se tiene un error menor al 0.1%\n",
      "Con 4 terminos el valor aprox es 0.7041966864370203 el valor real es 0.7042004042929833 y el % de error es 0.00052795424999991%\n",
      "Con 4 terminos se tiene un error menor al 0.001%\n"
     ]
    }
   ],
   "source": [
    "\"\"\"\n",
    "4. Diseñar una función que permita calcular una aproximación de la función coseno alrededor de 0 para cualquier valor x (real), utilizando los primeros n términos \n",
    "de la serie de Taylor. nota: use math para traer la función coseno y mostrar la diferencia entre el valor real y la aproximación. Calcule con cuántos términos de \n",
    "la serie (i.e: cuáles valores de n), se tienen errores del 10%, 1%, 0.1% y 0.001%.\n",
    "\"\"\"\n",
    "import math\n",
    "\n",
    "def calculo_aprox(x, n):\n",
    "    suma_total = 0\n",
    "    \n",
    "    for i in range(0, n): #el for es la suma de la serie de taylor\n",
    "        serie_taylor = ((-1)**i)*((x)**(2*i)/(math.factorial(2*i))) #la operacion\n",
    "        suma_total += serie_taylor\n",
    "        i += 1\n",
    "\n",
    "    return suma_total\n",
    "\n",
    "if __name__ == \"__main__\":\n",
    "    x = float(input(\"Escriba cualquier valor real x para la aproximacion de coseno con la serie de Taylor alrededor de 0\")) #se pide el numero\n",
    "    valor_real = math.cos(x) \n",
    "    n = 1 #n es la cantidad de terminos de la serie, por el momento es 1\n",
    "    valor_aproximado = calculo_aprox(x, n)\n",
    "    error = math.fabs(((math.fabs(valor_aproximado - valor_real))/valor_real)*100) #el porcentaje (%) de error\n",
    "    print(f\"Con {n} terminos el valor aprox es {valor_aproximado} el valor real es {valor_real} y el % de error es {error}%\")\n",
    "    \n",
    "    while error>10: #mientras que el error sea mayor a 10 se va a incrementar el numero de terminos hasta que sea menor\n",
    "        n += 1\n",
    "        valor_aproximado = calculo_aprox(x, n)\n",
    "        error = math.fabs(((math.fabs(valor_aproximado - valor_real))/valor_real)*100)\n",
    "        print(f\"Con {n} terminos el valor aprox es {valor_aproximado} el valor real es {valor_real} y el % de error es {error}%\")\n",
    "        if 1<error<10:\n",
    "            print(f\"Con {n} terminos se tiene un error menor al 10%\")\n",
    "    \n",
    "    while error<10: #si el error es menor al 10% se busca el termino en el que el error sea menor al 1%, 0.1% y 0.001% \n",
    "        n += 1\n",
    "        valor_aproximado = calculo_aprox(x, n)\n",
    "        error = math.fabs(((math.fabs(valor_aproximado - valor_real))/valor_real)*100)\n",
    "        print(f\"Con {n} terminos el valor aprox es {valor_aproximado} el valor real es {valor_real} y el % de error es {error}%\")\n",
    "        if 0.1<error<1:\n",
    "            print(f\"Con {n} terminos se tiene un error menor al 1%\")\n",
    "        elif 0.001<error<0.1:\n",
    "            print(f\"Con {n} terminos se tiene un error menor al 0.1%\")\n",
    "        elif error<0.001:\n",
    "            print(f\"Con {n} terminos se tiene un error menor al 0.001%\")\n",
    "            break"
   ]
  },
  {
   "cell_type": "code",
   "execution_count": 10,
   "metadata": {},
   "outputs": [
    {
     "name": "stdout",
     "output_type": "stream",
     "text": [
      "['4', '8', '5', '6', '45', '89', '2', '8', '15', '546', '87', '465']\n",
      "El elemento repetido es  8\n"
     ]
    }
   ],
   "source": [
    "\"\"\"\n",
    "6. Desarrollar un programa que determine si en una lista existen o no elementos repetidos. \n",
    "Pista: Maneje valores booleanos y utilice el operador in.\n",
    "\"\"\"\n",
    "\n",
    "def elementos_repetidos(lista_d):\n",
    "    elementos_nr = [] #lista con elementos que no esta repetidos (por el momento)\n",
    "    for i in lista_d:\n",
    "        if i in elementos_nr: #si el elemento esta en la lista de elementos no repetidos por el momento, entonces deja de ser no repetido \n",
    "            print(\"El elemento repetido es \", i)\n",
    "        else: #si no ocurre esto, entonces el elemento se agrega a la lista de elementos no repetidos por el momento\n",
    "            elementos_nr.append(i)\n",
    "\n",
    "if __name__ == \"__main__\":\n",
    "    numero_elementos = int(input(\"Ingrese la cantidad de elementos que tiene la lista\")) #Aca la cantidad de elementos de la lista\n",
    "    lista = []\n",
    "    for i in range(1, numero_elementos+1): #se piden los elementos de la lista y se va llenando\n",
    "        elementos = input(\"Ingrese el elemento de la lista: \") \n",
    "        lista.append(elementos)\n",
    "    print(lista)\n",
    "    elementos_repetidos(lista)"
   ]
  },
  {
   "cell_type": "code",
   "execution_count": 10,
   "metadata": {},
   "outputs": [
    {
     "name": "stdout",
     "output_type": "stream",
     "text": [
      "La lista 1 es: ['hola', '12', 'p', '48', '98']\n",
      "La lista 2 es: ['48', 'u', 'hola', '52', '61']\n",
      "La lista 3 con elementos de la 1era que no tiene la 2da es: ['12', 'p', '98']\n"
     ]
    }
   ],
   "source": [
    "#8. Desarrollar un programa que dadas dos listas determine que elementos tiene la primer lista que no tenga la segunda lista.\n",
    "\n",
    "def funcion_listas_dif(lista1, lista2):\n",
    "    for i in lista1: #se recorre la lista 1 y en cada iteracion se agrega a lista_diferente los numeros que no estan en la lista 2\n",
    "        if i not in lista2:\n",
    "            lista_diferente.append(i)\n",
    "    print(\"La lista 1 es:\", lista1)\n",
    "    print(\"La lista 2 es:\", lista2)\n",
    "    print(\"La lista 3 con elementos de la 1era que no tiene la 2da es:\", lista_diferente)\n",
    "\n",
    "\n",
    "if __name__ == \"__main__\":\n",
    "    #se pide la cantidad de elementos de la lista 1, y se agregan los elementos, lo mismo ocurre mas adelante con la lista 2\n",
    "    n_lista1 = int(input(\"Escriba la cantidad de elementos que tiene la lista 1: \")) \n",
    "    lista1 = []\n",
    "    for i in range(1, n_lista1+1):\n",
    "        elementos_lista1 = input(\"Escriba cada uno de los elementos de la lista 1: \")\n",
    "        lista1.append(elementos_lista1)\n",
    "\n",
    "    n_lista2 = int(input(\"Escriba la cantidad de elementos que tiene la lista 2: \"))\n",
    "    lista2 = []\n",
    "    for i in range(1, n_lista2+1):\n",
    "        elementos_lista2 = input(\"Escriba cada uno de los elementos de la lista 2: \")\n",
    "        lista2.append(elementos_lista2)\n",
    "\n",
    "    lista_diferente = []\n",
    "    funcion_listas_dif(lista1, lista2)"
   ]
  },
  {
   "cell_type": "code",
   "execution_count": 6,
   "metadata": {},
   "outputs": [
    {
     "name": "stdout",
     "output_type": "stream",
     "text": [
      "La lista dada es:  [4, 59, 8, 4, 9, 30, 5, 1, 3]\n",
      "Los multiplos de 3 de la lista son [9, 30, 3]\n"
     ]
    }
   ],
   "source": [
    "\"\"\"\n",
    "10. Suponga que se tiene una lista A con ciertos números enteros. Desarrolle una función que, independientemente de los números que se encuentran en la lista A, tome aquellos \n",
    "números que son múltiplos de 3 y los guarde en una lista nueva, la cual debe ser retornada por la función. Implemente la perspectiva de un patrón de acumulación y también de \n",
    "comprensión de listas. Desafío: Si ya lo logró, inténtelo ahora sin utilizar el módulo (%). Pista: Un número es multiplo de 3 si la suma de sus dígitos también lo es, ¿verdad?\n",
    "\"\"\"\n",
    "#Perspectiva de patron de acumulación\n",
    "\n",
    "def funcion_multiplos_acumulacion(lista):\n",
    "    lista_multiplos = [] #lista donde se van a guardar los multiplos\n",
    "    for i in lista: #por cada elemento en la lista si el modulo es 0, entonces se agrega a la lista\n",
    "        if i % 3 == 0:\n",
    "            lista_multiplos.append(i)\n",
    "        else:\n",
    "            continue\n",
    "\n",
    "    print (\"Los multiplos de 3 de la lista son\", lista_multiplos) #se imprime la lista\n",
    "\n",
    "if __name__ == \"__main__\":\n",
    "    #se crea la lista A que va a ser la lista que el usuario va a ingresar\n",
    "    lista_A = []\n",
    "    n_listaA = int(input(\"Escriba la cantidad de elementos que tiene la lista A: \"))\n",
    "    for i in range(1, n_listaA+1):\n",
    "        elementos_listaA = int(input(\"Escriba cada uno de los elementos de la lista A: \"))\n",
    "        lista_A.append(elementos_listaA)\n",
    "    print(\"La lista dada es: \", lista_A)\n",
    "    funcion_multiplos_acumulacion(lista_A) #se llama a la funcion"
   ]
  },
  {
   "cell_type": "code",
   "execution_count": 9,
   "metadata": {},
   "outputs": [
    {
     "name": "stdout",
     "output_type": "stream",
     "text": [
      "La lista dada es:  [1, 5, 9, 7, 5, 30, 5, 6, 3]\n",
      "Los multiplos de 3 de la lista son [9, 30, 6, 3]\n"
     ]
    }
   ],
   "source": [
    "\"\"\"\n",
    "10. Suponga que se tiene una lista A con ciertos números enteros. Desarrolle una función que, independientemente de los números que se encuentran en la lista A, tome aquellos \n",
    "números que son múltiplos de 3 y los guarde en una lista nueva, la cual debe ser retornada por la función. Implemente la perspectiva de un patrón de acumulación y también de \n",
    "comprensión de listas. Desafío: Si ya lo logró, inténtelo ahora sin utilizar el módulo (%). Pista: Un número es multiplo de 3 si la suma de sus dígitos también lo es, ¿verdad?\n",
    "\"\"\"\n",
    "#Perspectiva de compresion de listas\n",
    "\n",
    "def funcion_multiplos_comprension(lista):\n",
    "    lista_multiplos = [i for i in lista if i%3==0] #list comprehension\n",
    "    print (\"Los multiplos de 3 de la lista son\", lista_multiplos)\n",
    "\n",
    "if __name__ == \"__main__\":\n",
    "    #se crea la lista A que va a ser la lista que el usuario va a ingresar\n",
    "    lista_A = []\n",
    "    n_listaA = int(input(\"Escriba la cantidad de elementos que tiene la lista A: \"))\n",
    "    for i in range(1, n_listaA+1):\n",
    "        elementos_listaA = int(input(\"Escriba cada uno de los elementos de la lista A: \"))\n",
    "        lista_A.append(elementos_listaA)\n",
    "    print(\"La lista dada es: \", lista_A)\n",
    "    funcion_multiplos_comprension(lista_A) #se llama a la funcion"
   ]
  },
  {
   "cell_type": "code",
   "execution_count": 27,
   "metadata": {},
   "outputs": [
    {
     "name": "stdout",
     "output_type": "stream",
     "text": [
      "La lista dada es:  [15, 1, 5, 9, 7, 30, 6, 5, 4]\n",
      "los multiplos de 3 de la lista A son:  [15, 9, 30, 6]\n"
     ]
    }
   ],
   "source": [
    "\"\"\"\n",
    "10. Suponga que se tiene una lista A con ciertos números enteros. Desarrolle una función que, independientemente de los números que se encuentran en la lista A, tome aquellos \n",
    "números que son múltiplos de 3 y los guarde en una lista nueva, la cual debe ser retornada por la función. Implemente la perspectiva de un patrón de acumulación y también de \n",
    "comprensión de listas. Desafío: Si ya lo logró, inténtelo ahora sin utilizar el módulo (%). Pista: Un número es multiplo de 3 si la suma de sus dígitos también lo es, ¿verdad?\n",
    "\"\"\"\n",
    "#sin % (modulo)\n",
    "\n",
    "def funcion_multiplos(lista):\n",
    "    suma_digitos = 0 #se van a sumar los digitos, por lo que se crea una variable = 0\n",
    "    lista_multiplos = [] #lista donde se guardan los multiplos\n",
    "    for i in lista: #por cada elemento en la lista se hace lo mismo:\n",
    "        for j in str(i): #se convierte en str y se recorre cada digito sumandolo a la variable suma_digitos\n",
    "            suma_digitos += int(j) \n",
    "            while suma_digitos > 10: #si la suma es mayor a 10, entonces se repite el proceso hasta que no lo sea\n",
    "                for p in str(suma_digitos):\n",
    "                    suma_digitos += int(p)\n",
    "        if suma_digitos == 3 or suma_digitos == 6 or suma_digitos == 9: #si la variable es igual a 3, 6 o 9 (menores a 10) entonces se agrega a la lista_multiplos\n",
    "            lista_multiplos.append(i) #\n",
    "        suma_digitos = 0 #se vuelve cero de nuevo para repetir el proceso con cada elemento de la lista\n",
    "    print(\"los multiplos de 3 de la lista A son: \", lista_multiplos)\n",
    "\n",
    "if __name__ == \"__main__\":\n",
    "    #se crea la lista A que va a ser la lista que el usuario va a ingresar\n",
    "    lista_A = []\n",
    "    n_listaA = int(input(\"Escriba la cantidad de elementos que tiene la lista A: \"))\n",
    "    for i in range(1, n_listaA+1):\n",
    "        elementos_listaA = int(input(\"Escriba cada uno de los elementos de la lista A: \"))\n",
    "        lista_A.append(elementos_listaA)\n",
    "    print(\"La lista dada es: \", lista_A)\n",
    "    funcion_multiplos(lista_A) #se llama a la funcion"
   ]
  }
 ],
 "metadata": {
  "kernelspec": {
   "display_name": "Python 3",
   "language": "python",
   "name": "python3"
  },
  "language_info": {
   "codemirror_mode": {
    "name": "ipython",
    "version": 3
   },
   "file_extension": ".py",
   "mimetype": "text/x-python",
   "name": "python",
   "nbconvert_exporter": "python",
   "pygments_lexer": "ipython3",
   "version": "3.12.0"
  }
 },
 "nbformat": 4,
 "nbformat_minor": 2
}
