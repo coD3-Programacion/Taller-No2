{
 "cells": [
  {
   "cell_type": "markdown",
   "metadata": {},
   "source": [
    "Punto 1: Desarrollar un programa que ingrese un número entero n y separe todos los digitos que componen el número. Pista: Utilice los operadores módulo (%) y división entera (//)."
   ]
  },
  {
   "cell_type": "code",
   "execution_count": 3,
   "metadata": {},
   "outputs": [
    {
     "name": "stdout",
     "output_type": "stream",
     "text": [
      "Sus cifras son: \n",
      "1\n",
      "2\n",
      "3\n",
      "4\n",
      "5\n",
      "6\n",
      "7\n"
     ]
    }
   ],
   "source": [
    "# Se usa try por si el usuario pone un valor que no es valido.\n",
    "try: \n",
    "    num = int(input(\"Por favor ingrese un número entero: \"))#Se le pide un numero al usuario \n",
    "    y:int= 0\n",
    "    cifras = len(str(num))#Se usa len para ver cuantas cifras tiene el numero.\n",
    "    y += cifras\n",
    "    i = 0\n",
    "    anterior_cifra = 1\n",
    "    print(\"Sus cifras son: \")\n",
    "    while i < y: \n",
    "        x = (num // 10**(cifras-1))  # Obtiene la cifra más grande\n",
    "        print(x)\n",
    "        num = num % 10**(cifras-1)  # Remueve la cifra mas grande del numero\n",
    "        cifras -= 1  # Reduce el contador de cifras\n",
    "        i += 1  # Incrementa el contador de iteraciones\n",
    "except ValueError:\n",
    "    print(\"Por favor ingrese un valor válido.\") "
   ]
  },
  {
   "cell_type": "markdown",
   "metadata": {},
   "source": [
    "Punto 3: Desarrollar un programa que permita ingresar dos números enteros y determinar si se tratan de números espejos, definiendo números espejos como dos números a y b tales que a se lee de izquierda a derecha igual que se lee b de derecha a izquierda, y viceversa."
   ]
  },
  {
   "cell_type": "code",
   "execution_count": 4,
   "metadata": {},
   "outputs": [
    {
     "name": "stdout",
     "output_type": "stream",
     "text": [
      "Los numeros que ingresaste son numeros espejos \n"
     ]
    }
   ],
   "source": [
    "#Se usa try por si el usuario ingresa un valor que no es valido.\n",
    "try: \n",
    "    num_1 = int(input(\"Por favor ingrese un numero entero: \"))#Se le piden dos numeros al usuario.\n",
    "    num_2 = int(input(\"Por favor ingrese un numero entero: \")) \n",
    "    lista: list = list(str(num_1))#Se convierten los dos numeros a listas.\n",
    "    lista2: list = list(str(num_2))\n",
    "    lista.sort(reverse= True)#Se invierte la primera lista.\n",
    "    if lista == lista2:#Se verifica si las dos listas coinciden.\n",
    "        print(\"Los numeros que ingresaste son numeros espejos \")\n",
    "    else: \n",
    "        print(\"Los numeros que ingresaste no son numeros espejos.\")\n",
    "except ValueError:\n",
    "    print(\"Por favor ingrese numeros enteros. \")"
   ]
  },
  {
   "cell_type": "markdown",
   "metadata": {},
   "source": [
    "Punto 5: Desarrollar un programa que permita determinar el Minimo Comun Multiplo de dos numeros enteros. Abordar el problema desde una perpectiva tanto iterativa como recursiva. Pista: Puede ser de utilidad chequear el Algoritmo de Euclides para el cálculo del Máximo Común Divisor, y revisar cómo se relaciona este último con el Mínimo Común Múltiplo."
   ]
  },
  {
   "cell_type": "code",
   "execution_count": null,
   "metadata": {},
   "outputs": [],
   "source": [
    "def mcd(a: int, b: int) -> int:\n",
    "    if b == 0: #Caso base: si b es 0, el mcd es a\n",
    "        return a\n",
    "    else:\n",
    "        return mcd(b, a % b) #Llamada a si misma, intercambiando los valores por b y a%b\n",
    "    \n",
    "if __name__ == \"__main__\":\n",
    "    a = int(input(\"Por favor ingrese un número entero: \")) #Le pide al usuario dos numeros  \n",
    "    b = int(input(\"Por favor ingrese un número entero: \")) \n",
    "    maximo_comun_divisor = mcd(a, b) # Halla el maximo comun divisor utilizando la funcion mcd\n",
    "    print(f\"El máximo común divisor de los números es {maximo_comun_divisor}\")"
   ]
  },
  {
   "cell_type": "markdown",
   "metadata": {},
   "source": [
    "Punto 7: Desarrollar un programa que determine si en una lista se encuentra una cadena de caracteres con dos o más vocales. Si la cadena existe debe imprimirla y si no existe debe imprimir 'No existe'."
   ]
  },
  {
   "cell_type": "code",
   "execution_count": null,
   "metadata": {},
   "outputs": [],
   "source": [
    "def contar_vocales(cadena): #Se crea una funcion que identifica cuantas vocales tiene una cadena\n",
    "    vocales = 'aeiouAEIOU'\n",
    "    contador = 0\n",
    "    for char in cadena:\n",
    "        if char in vocales:\n",
    "            contador += 1\n",
    "    return contador\n",
    "\n",
    "try: #Se usa try por si el usuario ingresa un valor que no es valido.\n",
    "    cantidad = int(input(\"Por favor ingrese el número de elementos que va a tener su lista: \")) #Se le pide al usuario cuantos elementos va a tener la lista\n",
    "    vector = []\n",
    "\n",
    "    for _ in range(cantidad): #Se usa un ciclo for para poder poner la cantidad de elementos que desea el usuario dentro de la lista.\n",
    "        x = input(\"Por favor ingrese un elemento: \")\n",
    "        vector.append(x)\n",
    "\n",
    "    cadena_con_vocales: list = []\n",
    "\n",
    "    for cadena in vector: #Se usa un ciclo for para evaluar cada elemento de la lista y si se cumple la condicion se pone ese elemento dentro de una nueva lista.\n",
    "        if contar_vocales(cadena) >= 2:\n",
    "            cadena_con_vocales.append(cadena)\n",
    "        else:\n",
    "            continue\n",
    "\n",
    "    if len(cadena_con_vocales) > 0: #Si hay un elemento o mas dentro de la nueva lista esta se imprime, es decir, se imprimen todos los elementos que tienen 2 vocales o mas.\n",
    "        print(f\"La o las cadenas con dos vocales o mas son: {cadena_con_vocales}\")\n",
    "    else:\n",
    "        print(\"No existe\") #Si lo anterior no se cumple, quiere decir que no existe ningun elemento que cumpla la condicion dada.\n",
    "except ValueError:\n",
    "    print(\"Por favor ingrese un valor valido.\")"
   ]
  },
  {
   "cell_type": "markdown",
   "metadata": {},
   "source": [
    "Punto 9: Resolver el punto 7 del taller 1 usando operaciones con vectores."
   ]
  },
  {
   "cell_type": "code",
   "execution_count": null,
   "metadata": {},
   "outputs": [],
   "source": [
    "#Resolver el punto 7 del taller 1 usando operaciones con vectores\n",
    "lista: list = []\n",
    "a = float(input(\"Por favor ingrese un numero: \"))\n",
    "lista.append(a)\n",
    "b = float(input(\"Por favor ingrese un numero: \"))\n",
    "lista.append(b)\n",
    "c = float(input(\"Por favor ingrese un numero: \"))\n",
    "lista.append(c)\n",
    "d = float(input(\"Por favor ingrese un numero: \"))\n",
    "lista.append(d)\n",
    "e = float(input(\"Por favor ingrese un numero: \"))\n",
    "lista.append(e)\n",
    "\n",
    "sum = 0 \n",
    "i = 0\n",
    "\n",
    "#Se usa un ciclo for para sumar todos los numeros y luego esto se divide en el numero de elementos, es decir, 5.\n",
    "for i in range(5): \n",
    "    sum += lista[i]\n",
    "promedio = sum/5\n",
    "print(f\"El promedio de los numeros que pusiste es: {promedio}\")\n",
    "\n",
    "#Para sacar la mediana ordenamos la lista usando el metodo sort e imprimimos el tercer elemento de la lista, el cual en este caso seria la mediana.\n",
    "lista.sort()\n",
    "print(f\"La mediana de los numeros que ingresaste es: {lista[2]}\")\n",
    "\n",
    "#Para sacar el promedio multiplicativo se usa un ciclo for para multitplican todos los numeros de la lista y se los elevo a 1/5 que equivaldria a la raiz quinta de el producto de la multiplicacion. \n",
    "x = 1\n",
    "for i in range(5):\n",
    "    x *= lista[i]\n",
    "promedio_multiplicativo = x**(1/5)\n",
    "print(f\"El promedio multiplicativo de los numeros que ingresaste es: {promedio_multiplicativo}\")\n",
    "\n",
    "#En este caso solo se imprime la lista, debido a que ya la habiamos organizado para sacar la mediana.\n",
    "print(f\"La lista ordenada de forma ascendente es: {lista}\")\n",
    "\n",
    "#Utilizmos slicing para imprimir la lista de atras para delante, para que quede ordenada de manea descendente.\n",
    "print(f\"La lista ordenada de forma descendente es: {lista[::-1]}\")\n",
    "\n",
    "#Elevamos el primer elemento de la lista al ultimo numero de la lista, debido a que la lista esta ordenada de forma descendente.\n",
    "potencia = lista[0]**lista[4]\n",
    "print(f\"La potencia del mayor numero elevado al menor numero es: {potencia}\")\n",
    "\n",
    "#Como fue visto en clase, se aplica el metodo Newton-Raphson para encontrar la raiz cubica del numero menor.\n",
    "y: float\n",
    "if lista[4] == 0:\n",
    "     y = 0\n",
    "y = lista[4]  \n",
    "for i in range(1000):\n",
    "    y_anterior = y  \n",
    "    y = y - (y**3 - lista[4]) / (3 * y**2)  \n",
    "    if abs(y - y_anterior) < 0.00001: \n",
    "        break\n",
    "print(f\"La raiz cubica del numero menor es: {y}\")\n",
    "\n",
    "\n"
   ]
  },
  {
   "cell_type": "markdown",
   "metadata": {},
   "source": []
  }
 ],
 "metadata": {
  "kernelspec": {
   "display_name": "Python 3",
   "language": "python",
   "name": "python3"
  },
  "language_info": {
   "codemirror_mode": {
    "name": "ipython",
    "version": 3
   },
   "file_extension": ".py",
   "mimetype": "text/x-python",
   "name": "python",
   "nbconvert_exporter": "python",
   "pygments_lexer": "ipython3",
   "version": "3.12.5"
  }
 },
 "nbformat": 4,
 "nbformat_minor": 2
}
